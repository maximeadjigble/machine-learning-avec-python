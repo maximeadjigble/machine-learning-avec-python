{
 "cells": [
  {
   "cell_type": "code",
   "execution_count": 3,
   "metadata": {},
   "outputs": [],
   "source": [
    "import numpy as np"
   ]
  },
  {
   "cell_type": "code",
   "execution_count": 4,
   "metadata": {},
   "outputs": [],
   "source": [
    "def lin(b, w, x):\n",
    "    y = 0\n",
    "    for xi, wi in zip(x, w):\n",
    "        y += xi*wi\n",
    "    y += b\n",
    "    return y\n",
    "\n",
    "def sigmoid(x):\n",
    "    s = 1/(1 + np.exp(-x))\n",
    "    return s\n",
    "\n",
    "def neurone(b, w, x):\n",
    "    y = lin(b, w, x)\n",
    "    z = sigmoid(y)\n",
    "    return z"
   ]
  },
  {
   "cell_type": "code",
   "execution_count": 8,
   "metadata": {},
   "outputs": [
    {
     "data": {
      "text/plain": [
       "0.549833997312478"
      ]
     },
     "execution_count": 8,
     "metadata": {},
     "output_type": "execute_result"
    }
   ],
   "source": [
    "x = [1, -20, 1]\n",
    "w = [0.1, 0.1, 0.1]\n",
    "b = 2\n",
    "\n",
    "z = neurone(b, w, x)\n",
    "z"
   ]
  },
  {
   "cell_type": "code",
   "execution_count": 20,
   "metadata": {},
   "outputs": [],
   "source": [
    "def reseaux_neurone(x, Wh, bh, Wo, bo, nh, no):\n",
    "    yh = []\n",
    "    for i in range(nh):\n",
    "        b = bh[i]\n",
    "        w = Wh[i,:]\n",
    "        y_ = neurone(b, w, x)\n",
    "        yh.append(y_)\n",
    "   \n",
    "    z = []\n",
    "    for i in range(no):\n",
    "        b = bo[i]\n",
    "        w = Wo[i,:]\n",
    "        z_ = neurone(b, w, yh)\n",
    "        z.append(z_)\n",
    "    return z"
   ]
  },
  {
   "cell_type": "code",
   "execution_count": 23,
   "metadata": {},
   "outputs": [],
   "source": [
    "ni = 3\n",
    "nh = 100\n",
    "no = 4\n",
    "x = [1, 1, 1]\n",
    "\n",
    "Wh = np.random.rand(nh, ni)\n",
    "bh = np.random.rand(nh)\n",
    "\n",
    "Wo = np.random.rand(no, nh)\n",
    "bo = np.random.rand(no)"
   ]
  },
  {
   "cell_type": "code",
   "execution_count": 24,
   "metadata": {},
   "outputs": [
    {
     "data": {
      "text/plain": [
       "[1.0, 1.0, 1.0, 1.0]"
      ]
     },
     "execution_count": 24,
     "metadata": {},
     "output_type": "execute_result"
    }
   ],
   "source": [
    "z = reseaux_neurone(x, Wh, bh, Wo, bo, nh, no)\n",
    "z"
   ]
  },
  {
   "cell_type": "code",
   "execution_count": null,
   "metadata": {},
   "outputs": [],
   "source": []
  },
  {
   "cell_type": "code",
   "execution_count": null,
   "metadata": {},
   "outputs": [],
   "source": []
  },
  {
   "cell_type": "code",
   "execution_count": null,
   "metadata": {},
   "outputs": [],
   "source": []
  }
 ],
 "metadata": {
  "kernelspec": {
   "display_name": "Python 3",
   "language": "python",
   "name": "python3"
  },
  "language_info": {
   "codemirror_mode": {
    "name": "ipython",
    "version": 3
   },
   "file_extension": ".py",
   "mimetype": "text/x-python",
   "name": "python",
   "nbconvert_exporter": "python",
   "pygments_lexer": "ipython3",
   "version": "3.8.3"
  }
 },
 "nbformat": 4,
 "nbformat_minor": 4
}
