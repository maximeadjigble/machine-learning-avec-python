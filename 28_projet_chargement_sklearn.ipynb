{
 "cells": [
  {
   "cell_type": "code",
   "execution_count": 1,
   "metadata": {},
   "outputs": [],
   "source": [
    "import numpy as np\n",
    "from random import randint\n",
    "from sklearn.datasets import load_digits\n",
    "import matplotlib.pyplot as plt\n",
    "%matplotlib inline"
   ]
  },
  {
   "cell_type": "code",
   "execution_count": 5,
   "metadata": {},
   "outputs": [
    {
     "name": "stdout",
     "output_type": "stream",
     "text": [
      "dict_keys(['data', 'target', 'target_names', 'images', 'DESCR'])\n",
      "[0 1 2 3 4 5 6 7 8 9]\n"
     ]
    }
   ],
   "source": [
    "dataset = load_digits()\n",
    "print(dataset.keys())\n",
    "print(dataset.target_names)"
   ]
  },
  {
   "cell_type": "code",
   "execution_count": 6,
   "metadata": {},
   "outputs": [
    {
     "name": "stdout",
     "output_type": "stream",
     "text": [
      "(1797, 8, 8)\n",
      "(1797, 64)\n",
      "(1797,)\n"
     ]
    }
   ],
   "source": [
    "images = dataset.images\n",
    "X = dataset.data\n",
    "y = dataset.target\n",
    "\n",
    "print(images.shape)\n",
    "print(X.shape)\n",
    "print(y.shape)"
   ]
  },
  {
   "cell_type": "code",
   "execution_count": 12,
   "metadata": {},
   "outputs": [
    {
     "name": "stdout",
     "output_type": "stream",
     "text": [
      "1157 0\n"
     ]
    },
    {
     "data": {
      "image/png": "[encoded data removed]",
      "text/plain": [
       "<Figure size 432x288 with 1 Axes>"
      ]
     },
     "metadata": {
      "needs_background": "light"
     },
     "output_type": "display_data"
    }
   ],
   "source": [
    "idx = randint(0, images.shape[0])\n",
    "print(idx, y[idx])\n",
    "plt.imshow(images[idx], cmap='gray')\n",
    "plt.show()"
   ]
  },
  {
   "cell_type": "code",
   "execution_count": 13,
   "metadata": {},
   "outputs": [
    {
     "name": "stdout",
     "output_type": "stream",
     "text": [
      "[[ 0.  0.  4. 14. 14.  2.  0.  0.]\n",
      " [ 0.  5. 16. 11.  7. 10.  0.  0.]\n",
      " [ 0.  4. 16.  4.  0. 11.  1.  0.]\n",
      " [ 0.  7. 14.  1.  0.  7.  5.  0.]\n",
      " [ 0.  4. 10.  0.  0.  7.  7.  0.]\n",
      " [ 0.  1. 12.  0.  0. 12.  3.  0.]\n",
      " [ 0.  0.  9.  6.  6. 13.  0.  0.]\n",
      " [ 0.  0.  0. 10. 14.  4.  0.  0.]]\n",
      "[ 0.  0.  4. 14. 14.  2.  0.  0.  0.  5. 16. 11.  7. 10.  0.  0.  0.  4.\n",
      " 16.  4.  0. 11.  1.  0.  0.  7. 14.  1.  0.  7.  5.  0.  0.  4. 10.  0.\n",
      "  0.  7.  7.  0.  0.  1. 12.  0.  0. 12.  3.  0.  0.  0.  9.  6.  6. 13.\n",
      "  0.  0.  0.  0.  0. 10. 14.  4.  0.  0.]\n"
     ]
    }
   ],
   "source": [
    "print(images[idx])\n",
    "print(X[idx])"
   ]
  },
  {
   "cell_type": "code",
   "execution_count": null,
   "metadata": {},
   "outputs": [],
   "source": []
  },
  {
   "cell_type": "code",
   "execution_count": null,
   "metadata": {},
   "outputs": [],
   "source": []
  }
 ],
 "metadata": {
  "kernelspec": {
   "display_name": "Python 3",
   "language": "python",
   "name": "python3"
  },
  "language_info": {
   "codemirror_mode": {
    "name": "ipython",
    "version": 3
   },
   "file_extension": ".py",
   "mimetype": "text/x-python",
   "name": "python",
   "nbconvert_exporter": "python",
   "pygments_lexer": "ipython3",
   "version": "3.8.3"
  }
 },
 "nbformat": 4,
 "nbformat_minor": 4
}
